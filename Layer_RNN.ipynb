{
 "cells": [
  {
   "cell_type": "code",
   "execution_count": 3,
   "metadata": {
    "collapsed": true
   },
   "outputs": [],
   "source": [
    "import numpy as np\n",
    "import tensorflow as tf\n",
    "import matplotlib.pyplot as plt\n",
    "from tensorflow.contrib import rnn\n",
    "%matplotlib inline"
   ]
  },
  {
   "cell_type": "code",
   "execution_count": 4,
   "metadata": {
    "collapsed": true
   },
   "outputs": [],
   "source": [
    "sess = tf.InteractiveSession()"
   ]
  },
  {
   "cell_type": "code",
   "execution_count": 22,
   "metadata": {
    "collapsed": true
   },
   "outputs": [],
   "source": [
    "# Parameters\n",
    "learning_rate = 0.0001\n",
    "#training_iters = 200000\n",
    "batch_size = 200\n",
    "display = 100\n",
    "\n",
    "# Network Parameters\n",
    "n_input = 128 \n",
    "n_steps = 80 # timesteps,\n",
    "\n",
    "n_hidden = 512 \n",
    "n_classes = 2 "
   ]
  },
  {
   "cell_type": "code",
   "execution_count": 23,
   "metadata": {
    "collapsed": true
   },
   "outputs": [],
   "source": [
    "tf.reset_default_graph()\n",
    "x = tf.placeholder(\"float\", [None, n_steps, n_input])\n",
    "y = tf.placeholder(\"float\", [None, n_classes])\n",
    "\n",
    "weights = {\n",
    "    'in': tf.Variable(tf.random_normal([n_input, n_hidden])),\n",
    "    'out': tf.Variable(tf.random_normal([n_hidden, n_classes]))\n",
    "}\n",
    "biases = {\n",
    "    'in' : tf.Variable(tf.random_normal([n_hidden])),\n",
    "    'out': tf.Variable(tf.random_normal([n_classes]))\n",
    "}"
   ]
  },
  {
   "cell_type": "code",
   "execution_count": 6,
   "metadata": {
    "collapsed": true
   },
   "outputs": [],
   "source": [
    "def rnn_cell():\n",
    "    return rnn.BasicRNNCell(n_hidden, reuse=tf.get_variable_scope().reuse)"
   ]
  },
  {
   "cell_type": "code",
   "execution_count": 7,
   "metadata": {
    "collapsed": true
   },
   "outputs": [],
   "source": [
    "def gru_cell():\n",
    "    return rnn.GRUCell(n_hidden, reuse=tf.get_variable_scope().reuse)"
   ]
  },
  {
   "cell_type": "code",
   "execution_count": 8,
   "metadata": {
    "collapsed": true
   },
   "outputs": [],
   "source": [
    "def lstm_cells():\n",
    "    return rnn.LSTMCell(n_hidden, reuse=tf.get_variable_scope().reuse,  forget_bias=1.0)"
   ]
  },
  {
   "cell_type": "code",
   "execution_count": 24,
   "metadata": {
    "collapsed": false
   },
   "outputs": [],
   "source": [
    "def RNN_Model(x, weights, biases, kind, hidden_layer):\n",
    "\n",
    "   \n",
    "    x_or = x\n",
    "    '''x = tf.reshape(x, [-1, n_input])\n",
    "    x_in = tf.matmul(x, weights['in'] +biases['in'])\n",
    "    x_in = tf.reshape(x_in, [-1,n_steps, n_hidden])\n",
    "    x = tf.unstack(x_in, n_steps, 1)'''\n",
    "    \n",
    "    if(kind == 'LSTM'): \n",
    "        stacked_cell = rnn.MultiRNNCell([lstm_cells() for _ in range(hidden_layer)] , state_is_tuple=True ) #add\n",
    "    if(kind == 'GRU'):\n",
    "        stacked_cell = rnn.MultiRNNCell([gru_cell() for _ in range(hidden_layer)] , state_is_tuple=True ) #add\n",
    "    else:\n",
    "        stacked_cell = rnn.MultiRNNCell([rnn_cell() for _ in range(hidden_layer)] , state_is_tuple=True ) #add\n",
    "    \n",
    "    init_state = stacked_cell.zero_state(batch_size, tf.float32)\n",
    "   \n",
    "    outputs = []\n",
    "    state = init_state\n",
    "    with tf.variable_scope(\"RNN\"):\n",
    "        for time_step in range(n_steps):\n",
    "            if time_step > 0: tf.get_variable_scope().reuse_variables()\n",
    "            (cell_output, state) = stacked_cell(x[:, time_step, :], state)\n",
    "            outputs.append(cell_output)\n",
    "\n",
    "\n",
    "    return tf.matmul(outputs[-1], weights['out']) + biases['out']"
   ]
  },
  {
   "cell_type": "code",
   "execution_count": 25,
   "metadata": {
    "collapsed": false
   },
   "outputs": [],
   "source": [
    "pred = RNN_Model(x, weights, biases, 'RNN', 1) # GRU ,LSTM , default: RNN"
   ]
  },
  {
   "cell_type": "markdown",
   "metadata": {},
   "source": [
    "##  Load Data"
   ]
  },
  {
   "cell_type": "code",
   "execution_count": 11,
   "metadata": {
    "collapsed": false
   },
   "outputs": [],
   "source": [
    "data_set = np.load('imdb_word_emb.npz')\n",
    "X_train = data_set['X_train']\n",
    "y_train = data_set['y_train']\n",
    "X_test = data_set['X_test']\n",
    "y_test = data_set['y_test']"
   ]
  },
  {
   "cell_type": "code",
   "execution_count": 12,
   "metadata": {
    "collapsed": false
   },
   "outputs": [],
   "source": [
    "y_convert = []\n",
    "for i in y_train:\n",
    "    if i == 0:\n",
    "        ans = np.array([1.0, 0.0])\n",
    "    else:\n",
    "        ans = np.array([0.0, 1.0])\n",
    "    y_convert.append(ans)\n",
    "y_c = np.array(y_convert)"
   ]
  },
  {
   "cell_type": "code",
   "execution_count": 13,
   "metadata": {
    "collapsed": true
   },
   "outputs": [],
   "source": [
    "y_convert_test = []\n",
    "for i in y_test:\n",
    "    if i == 0:\n",
    "        ans = np.array([1.0, 0.0])\n",
    "    else:\n",
    "        ans = np.array([0.0, 1.0])\n",
    "    y_convert_test.append(ans)\n",
    "yct = np.array(y_convert_test)"
   ]
  },
  {
   "cell_type": "code",
   "execution_count": 14,
   "metadata": {
    "collapsed": true
   },
   "outputs": [],
   "source": [
    "def random():\n",
    "    \n",
    "    num = len(X_train)\n",
    "    idx = np.random.choice(num, size = batch_size, replace=False)\n",
    "    \n",
    "    x_batch = X_train[idx, :]\n",
    "    y_batch = y_c[idx, :]\n",
    "\n",
    "    return x_batch, y_batch"
   ]
  },
  {
   "cell_type": "code",
   "execution_count": 27,
   "metadata": {
    "collapsed": false
   },
   "outputs": [],
   "source": [
    "cost = tf.reduce_mean(tf.nn.softmax_cross_entropy_with_logits(logits=pred, labels=y))\n",
    "\n",
    "\n",
    "#optimizer = tf.train.MomentumOptimizer(learning_rate, 0.9).minimize(cost)\n",
    "\n",
    "optimizer = tf.train.GradientDescentOptimizer(learning_rate=learning_rate).minimize(cost)\n",
    "\n",
    "# Evaluate model\n",
    "correct_pred = tf.equal(tf.argmax(pred,1), tf.argmax(y,1))\n",
    "accuracy = tf.reduce_mean(tf.cast(correct_pred, tf.float32))\n",
    "\n",
    "# Initializing the variables\n"
   ]
  },
  {
   "cell_type": "code",
   "execution_count": 16,
   "metadata": {
    "collapsed": false
   },
   "outputs": [],
   "source": [
    "def running():\n",
    "    acc_test = 0.0 \n",
    "    accuracy_train = []\n",
    "    accuracy_test = []\n",
    "    \n",
    "    init = tf.global_variables_initializer()\n",
    "    with tf.Session() as sess:\n",
    "        sess.run(init)\n",
    "        step = 1\n",
    "        while(1):\n",
    "            if acc_test< 0.9:\n",
    "                batch_x, batch_y = random()\n",
    "\n",
    "                sess.run(optimizer, feed_dict={x: batch_x, y: batch_y})\n",
    "                if step % display == 0:\n",
    "\n",
    "                    acc = sess.run(accuracy, feed_dict={x: batch_x, y: batch_y})\n",
    "                    accuracy_train.append(acc)\n",
    "\n",
    "                    loss = sess.run(cost, feed_dict={x: batch_x, y: batch_y})\n",
    "                    print(\"Iter \" + str(step*batch_size) + \", Minibatch Loss= \" + \"{:.6f}\".format(loss) + \", Training Accuracy= \" + \\\n",
    "                          \"{:.5f}\".format(acc))\n",
    "                    dx = 0\n",
    "                    acc = []\n",
    "                    for i in range(len(y_test)//batch_size):\n",
    "\n",
    "                        test_data = X_test[dx:dx+batch_size]\n",
    "                        test_label = yct[dx:dx+batch_size]\n",
    "                        dx = dx+batch_size\n",
    "                        acc.append(sess.run(accuracy, feed_dict={x: test_data, y: test_label}))\n",
    "\n",
    "                    acc_test =  np.mean(acc)\n",
    "                    accuracy_test.append(acc_test)\n",
    "\n",
    "                    print(\"Testing Accuracy:\", \\\n",
    "                        accuracy_test)\n",
    "                step += 1\n",
    "            else:\n",
    "                break\n",
    "        print(\"Optimization Finished!\")\n",
    "    \n",
    "    return accuracy_train, accuracy_test\n",
    "    "
   ]
  },
  {
   "cell_type": "code",
   "execution_count": 17,
   "metadata": {
    "collapsed": false
   },
   "outputs": [
    {
     "name": "stdout",
     "output_type": "stream",
     "text": [
      "Iter 20000, Minibatch Loss= 0.435844, Training Accuracy= 0.84500\n",
      "Testing Accuracy: [0.85684001]\n",
      "Iter 40000, Minibatch Loss= 0.314465, Training Accuracy= 0.89000\n",
      "Testing Accuracy: [0.85684001, 0.87476009]\n",
      "Iter 60000, Minibatch Loss= 0.314584, Training Accuracy= 0.88000\n",
      "Testing Accuracy: [0.85684001, 0.87476009, 0.88432008]\n",
      "Iter 80000, Minibatch Loss= 0.346795, Training Accuracy= 0.87500\n",
      "Testing Accuracy: [0.85684001, 0.87476009, 0.88432008, 0.89024001]\n",
      "Iter 100000, Minibatch Loss= 0.314469, Training Accuracy= 0.90500\n",
      "Testing Accuracy: [0.85684001, 0.87476009, 0.88432008, 0.89024001, 0.88899994]\n",
      "Iter 120000, Minibatch Loss= 0.281199, Training Accuracy= 0.90000\n",
      "Testing Accuracy: [0.85684001, 0.87476009, 0.88432008, 0.89024001, 0.88899994, 0.89412004]\n",
      "Iter 140000, Minibatch Loss= 0.296774, Training Accuracy= 0.88000\n",
      "Testing Accuracy: [0.85684001, 0.87476009, 0.88432008, 0.89024001, 0.88899994, 0.89412004, 0.90287995]\n",
      "Optimization Finished!\n"
     ]
    }
   ],
   "source": [
    "LSTM_train, LSTM_test = running() "
   ]
  },
  {
   "cell_type": "code",
   "execution_count": 19,
   "metadata": {
    "collapsed": false
   },
   "outputs": [
    {
     "name": "stdout",
     "output_type": "stream",
     "text": [
      "Iter 20000, Minibatch Loss= 0.354374, Training Accuracy= 0.86500\n",
      "Testing Accuracy: [0.84536004]\n",
      "Iter 40000, Minibatch Loss= 0.408144, Training Accuracy= 0.85000\n",
      "Testing Accuracy: [0.84536004, 0.87128001]\n",
      "Iter 60000, Minibatch Loss= 0.221758, Training Accuracy= 0.92500\n",
      "Testing Accuracy: [0.84536004, 0.87128001, 0.88300008]\n",
      "Iter 80000, Minibatch Loss= 0.382105, Training Accuracy= 0.85000\n",
      "Testing Accuracy: [0.84536004, 0.87128001, 0.88300008, 0.88971996]\n",
      "Iter 100000, Minibatch Loss= 0.215279, Training Accuracy= 0.93000\n",
      "Testing Accuracy: [0.84536004, 0.87128001, 0.88300008, 0.88971996, 0.89547998]\n",
      "Iter 120000, Minibatch Loss= 0.253932, Training Accuracy= 0.90000\n",
      "Testing Accuracy: [0.84536004, 0.87128001, 0.88300008, 0.88971996, 0.89547998, 0.89788008]\n",
      "Iter 140000, Minibatch Loss= 0.181696, Training Accuracy= 0.92500\n",
      "Testing Accuracy: [0.84536004, 0.87128001, 0.88300008, 0.88971996, 0.89547998, 0.89788008, 0.9034]\n",
      "Optimization Finished!\n"
     ]
    }
   ],
   "source": [
    "GRU_train, GRU_test = running()"
   ]
  },
  {
   "cell_type": "code",
   "execution_count": 28,
   "metadata": {
    "collapsed": false
   },
   "outputs": [
    {
     "name": "stdout",
     "output_type": "stream",
     "text": [
      "Iter 20000, Minibatch Loss= 0.367900, Training Accuracy= 0.83000\n",
      "Testing Accuracy: [0.84347999]\n",
      "Iter 40000, Minibatch Loss= 0.242934, Training Accuracy= 0.91500\n",
      "Testing Accuracy: [0.84347999, 0.87484002]\n",
      "Iter 60000, Minibatch Loss= 0.257583, Training Accuracy= 0.90500\n",
      "Testing Accuracy: [0.84347999, 0.87484002, 0.88632011]\n",
      "Iter 80000, Minibatch Loss= 0.319663, Training Accuracy= 0.87500\n",
      "Testing Accuracy: [0.84347999, 0.87484002, 0.88632011, 0.89019996]\n",
      "Iter 100000, Minibatch Loss= 0.250398, Training Accuracy= 0.91500\n",
      "Testing Accuracy: [0.84347999, 0.87484002, 0.88632011, 0.89019996, 0.89836001]\n",
      "Iter 120000, Minibatch Loss= 0.251924, Training Accuracy= 0.91000\n",
      "Testing Accuracy: [0.84347999, 0.87484002, 0.88632011, 0.89019996, 0.89836001, 0.89975995]\n",
      "Iter 140000, Minibatch Loss= 0.230903, Training Accuracy= 0.89500\n",
      "Testing Accuracy: [0.84347999, 0.87484002, 0.88632011, 0.89019996, 0.89836001, 0.89975995, 0.89911997]\n",
      "Iter 160000, Minibatch Loss= 0.206630, Training Accuracy= 0.92500\n",
      "Testing Accuracy: [0.84347999, 0.87484002, 0.88632011, 0.89019996, 0.89836001, 0.89975995, 0.89911997, 0.90795994]\n",
      "Optimization Finished!\n"
     ]
    }
   ],
   "source": [
    "basic_train, basic_test = running()"
   ]
  },
  {
   "cell_type": "code",
   "execution_count": 58,
   "metadata": {
    "collapsed": true
   },
   "outputs": [],
   "source": [
    "def plot_accuracy(train, test, word):\n",
    "    \n",
    "    \n",
    "    for i in range(len(train)):\n",
    "        train[i] = 1 - train[i]\n",
    "    \n",
    "    for i in range(len(test)):\n",
    "        test[i] = 1 - test[i]\n",
    "        \n",
    "    plt.plot(range(len(train)), train,'b')\n",
    "    plt.plot(range(len(test)), test,'r')\n",
    "    plt.ylabel('Error rate')\n",
    "    plt.title(word)\n",
    "    plt.show()"
   ]
  },
  {
   "cell_type": "code",
   "execution_count": 60,
   "metadata": {
    "collapsed": false
   },
   "outputs": [
    {
     "data": {
      "image/png": "[encoded data removed]",
      "text/plain": [
       "<matplotlib.figure.Figure at 0x198e0f978>"
      ]
     },
     "metadata": {},
     "output_type": "display_data"
    }
   ],
   "source": [
    "plot_accuracy(basic_train, basic_test, 'RNN_learning rate')"
   ]
  },
  {
   "cell_type": "code",
   "execution_count": 62,
   "metadata": {
    "collapsed": false
   },
   "outputs": [
    {
     "data": {
      "image/png": "[encoded data removed]",
      "text/plain": [
       "<matplotlib.figure.Figure at 0x199075c18>"
      ]
     },
     "metadata": {},
     "output_type": "display_data"
    }
   ],
   "source": [
    "plot_accuracy(GRU_train, GRU_test, 'GRU learning rate')"
   ]
  },
  {
   "cell_type": "code",
   "execution_count": 64,
   "metadata": {
    "collapsed": false
   },
   "outputs": [
    {
     "data": {
      "image/png": "[encoded data removed]",
      "text/plain": [
       "<matplotlib.figure.Figure at 0x1992c9cf8>"
      ]
     },
     "metadata": {},
     "output_type": "display_data"
    }
   ],
   "source": [
    "plot_accuracy(LSTM_train, LSTM_test, 'LSTM learning rate')"
   ]
  },
  {
   "cell_type": "code",
   "execution_count": null,
   "metadata": {
    "collapsed": true
   },
   "outputs": [],
   "source": []
  }
 ],
 "metadata": {
  "kernelspec": {
   "display_name": "Python 3",
   "language": "python",
   "name": "python3"
  },
  "language_info": {
   "codemirror_mode": {
    "name": "ipython",
    "version": 3
   },
   "file_extension": ".py",
   "mimetype": "text/x-python",
   "name": "python",
   "nbconvert_exporter": "python",
   "pygments_lexer": "ipython3",
   "version": "3.5.2"
  }
 },
 "nbformat": 4,
 "nbformat_minor": 1
}
